{
 "cells": [
  {
   "cell_type": "markdown",
   "id": "72406624",
   "metadata": {},
   "source": [
    "## Notebook Imports"
   ]
  },
  {
   "cell_type": "code",
   "execution_count": null,
   "id": "ecbfe9f4",
   "metadata": {},
   "outputs": [],
   "source": [
    "import pandas as pd\n",
    "import numpy as np\n",
    "\n",
    "import matplotlib.pyplot as plt\n",
    "import seaborn as sns\n",
    "\n",
    "from sklearn.linear_model import LogisticRegression\n",
    "from sklearn.ensemble import RandomForestClassifier\n",
    "from sklearn.svm import SVC\n",
    "\n",
    "from sklearn.preprocessing import StandardScaler\n",
    "from sklearn.model_selection import KFold, train_test_split\n",
    "from sklearn.metrics import make_scorer, mean_squared_error\n",
    "from lightgbm import LGBMRegressor\n",
    "from lofo import LOFOImportance, Dataset, plot_importance\n",
    "\n",
    "import xgboost as xgb\n",
    "\n",
    "import tensorflow as tf\n",
    "from tensorflow import keras\n",
    "from tensorflow.keras import Sequential\n",
    "from tensorflow.keras import layers\n",
    "\n",
    "import warnings"
   ]
  },
  {
   "cell_type": "code",
   "execution_count": null,
   "id": "15274508",
   "metadata": {},
   "outputs": [],
   "source": [
    "warnings.filterwarnings(\"ignore\")"
   ]
  },
  {
   "cell_type": "code",
   "execution_count": null,
   "id": "be561373",
   "metadata": {},
   "outputs": [],
   "source": []
  },
  {
   "cell_type": "markdown",
   "id": "eb91ea20",
   "metadata": {},
   "source": [
    "#### Loading Dataset"
   ]
  },
  {
   "cell_type": "code",
   "execution_count": null,
   "id": "a25b7e7b",
   "metadata": {},
   "outputs": [],
   "source": [
    "train = pd.read_csv('./data/breastCancerTraining.csv')\n",
    "\n",
    "train.head()"
   ]
  },
  {
   "cell_type": "code",
   "execution_count": null,
   "id": "babb7c82",
   "metadata": {},
   "outputs": [],
   "source": [
    "train.info()"
   ]
  },
  {
   "cell_type": "code",
   "execution_count": null,
   "id": "99230e9a",
   "metadata": {},
   "outputs": [],
   "source": [
    "train.describe()"
   ]
  },
  {
   "cell_type": "code",
   "execution_count": null,
   "id": "2df8e37e",
   "metadata": {},
   "outputs": [],
   "source": [
    "len(train)"
   ]
  },
  {
   "cell_type": "markdown",
   "id": "3a060590",
   "metadata": {},
   "source": [
    "There does not seem to be any missing or 'na' values in this dataset."
   ]
  },
  {
   "cell_type": "code",
   "execution_count": null,
   "id": "9e726831",
   "metadata": {},
   "outputs": [],
   "source": [
    "train.isnull().sum()"
   ]
  },
  {
   "cell_type": "code",
   "execution_count": null,
   "id": "258b9b6f",
   "metadata": {},
   "outputs": [],
   "source": []
  },
  {
   "cell_type": "code",
   "execution_count": null,
   "id": "66550a47",
   "metadata": {},
   "outputs": [],
   "source": [
    "# Q. How many features are there? What are they?\n",
    "\n",
    "print(f'Total Features: {len(train.columns)}')\n",
    "train.columns"
   ]
  },
  {
   "cell_type": "code",
   "execution_count": null,
   "id": "fc62bd6b",
   "metadata": {},
   "outputs": [],
   "source": []
  },
  {
   "cell_type": "code",
   "execution_count": null,
   "id": "964b69ac",
   "metadata": {},
   "outputs": [],
   "source": [
    "train = train.drop(['id', 'count'], axis=1)"
   ]
  },
  {
   "cell_type": "code",
   "execution_count": null,
   "id": "ac7ea01e",
   "metadata": {},
   "outputs": [],
   "source": []
  },
  {
   "cell_type": "code",
   "execution_count": null,
   "id": "08371f3d",
   "metadata": {},
   "outputs": [],
   "source": [
    "# Correlation Heatmap\n",
    "\n",
    "plt.figure(figsize=(20, 15))\n",
    "mask = np.triu(np.ones_like(train.corr().round(2), dtype=bool))\n",
    "heatmap = sns.heatmap(train.corr().round(2), mask=mask, vmin=-1, vmax=1, annot=True, cmap=sns.cubehelix_palette(as_cmap=True))\n",
    "heatmap.set_title('Heatmap', fontdict={'fontsize':10}, pad=18);"
   ]
  },
  {
   "cell_type": "code",
   "execution_count": null,
   "id": "9d48f056",
   "metadata": {},
   "outputs": [],
   "source": []
  },
  {
   "cell_type": "markdown",
   "id": "616ecf34",
   "metadata": {},
   "source": [
    "Importance Plot"
   ]
  },
  {
   "cell_type": "code",
   "execution_count": null,
   "id": "d03fb530",
   "metadata": {},
   "outputs": [],
   "source": [
    "cv = KFold(n_splits=8, shuffle=True, random_state=1)\n",
    "\n",
    "scorer = make_scorer(mean_squared_error, greater_is_better=False)\n",
    "\n",
    "dataset = Dataset(\n",
    "    df=train.sample(frac=0.4, random_state=1),\n",
    "    target=\"cancer\",\n",
    "    features=[col for col in train.columns if col != \"cancer\"]\n",
    ")\n",
    "\n",
    "lgbm = LGBMRegressor(random_state=0, n_jobs=1)\n",
    "\n",
    "lofo_imp = LOFOImportance(dataset, cv=cv, scoring=scorer, model=lgbm)"
   ]
  },
  {
   "cell_type": "code",
   "execution_count": null,
   "id": "d2cc4cb8",
   "metadata": {},
   "outputs": [],
   "source": [
    "importance_df = lofo_imp.get_importance()"
   ]
  },
  {
   "cell_type": "code",
   "execution_count": null,
   "id": "952d7056",
   "metadata": {},
   "outputs": [],
   "source": [
    "plot_importance(importance_df, figsize=(10, 5))"
   ]
  },
  {
   "cell_type": "code",
   "execution_count": null,
   "id": "c5e5f51a",
   "metadata": {},
   "outputs": [],
   "source": []
  },
  {
   "cell_type": "code",
   "execution_count": null,
   "id": "0d154ab4",
   "metadata": {},
   "outputs": [],
   "source": [
    "feat = ['invasive', 'race', 'bmi', 'Hispanic']"
   ]
  },
  {
   "cell_type": "code",
   "execution_count": null,
   "id": "f76848c3",
   "metadata": {},
   "outputs": [],
   "source": []
  },
  {
   "cell_type": "code",
   "execution_count": null,
   "id": "e18ef0de",
   "metadata": {},
   "outputs": [],
   "source": [
    "scaler = StandardScaler()\n",
    "\n",
    "scaler.fit_transform(train[feat])"
   ]
  },
  {
   "cell_type": "code",
   "execution_count": null,
   "id": "9c24e837",
   "metadata": {},
   "outputs": [],
   "source": []
  },
  {
   "cell_type": "code",
   "execution_count": null,
   "id": "1d276506",
   "metadata": {},
   "outputs": [],
   "source": [
    "X = train[feat]\n",
    "y = train['cancer']"
   ]
  },
  {
   "cell_type": "code",
   "execution_count": null,
   "id": "944466ed",
   "metadata": {},
   "outputs": [],
   "source": [
    "X_train, X_test, y_train, y_test = train_test_split(X, y, test_size = 0.2, shuffle=True)"
   ]
  },
  {
   "cell_type": "code",
   "execution_count": null,
   "id": "a6940fea",
   "metadata": {},
   "outputs": [],
   "source": []
  },
  {
   "cell_type": "code",
   "execution_count": null,
   "id": "267a863c",
   "metadata": {},
   "outputs": [],
   "source": [
    "def rmse(a,b):\n",
    "    return np.sqrt(np.square(np.subtract(a,b)).mean())"
   ]
  },
  {
   "cell_type": "code",
   "execution_count": null,
   "id": "c9b41e11",
   "metadata": {},
   "outputs": [],
   "source": []
  },
  {
   "cell_type": "markdown",
   "id": "8a3c8d61",
   "metadata": {},
   "source": [
    "#### Model1: LogisticRegression"
   ]
  },
  {
   "cell_type": "code",
   "execution_count": null,
   "id": "365feed7",
   "metadata": {},
   "outputs": [],
   "source": [
    "logreg = LogisticRegression()\n",
    "\n",
    "logreg.fit(X_train, y_train)\n",
    "\n",
    "y_preds_logreg = logreg.predict(X_test)"
   ]
  },
  {
   "cell_type": "code",
   "execution_count": null,
   "id": "f2153f23",
   "metadata": {},
   "outputs": [],
   "source": [
    "rmse(y_test, y_preds_logreg)"
   ]
  },
  {
   "cell_type": "code",
   "execution_count": null,
   "id": "d353c0da",
   "metadata": {},
   "outputs": [],
   "source": []
  },
  {
   "cell_type": "markdown",
   "id": "3e325a19",
   "metadata": {},
   "source": [
    "#### Model2: RandomForestClassifier"
   ]
  },
  {
   "cell_type": "code",
   "execution_count": null,
   "id": "32859986",
   "metadata": {},
   "outputs": [],
   "source": [
    "rf = RandomForestClassifier(max_depth=1, n_estimators = 2, random_state=24)\n",
    "\n",
    "rf.fit(X_train, y_train)\n",
    "\n",
    "y_preds_rf = rf.predict(X_test)"
   ]
  },
  {
   "cell_type": "code",
   "execution_count": null,
   "id": "79a78740",
   "metadata": {},
   "outputs": [],
   "source": [
    "rmse(y_test, y_preds_rf)"
   ]
  },
  {
   "cell_type": "code",
   "execution_count": null,
   "id": "0e9c6da2",
   "metadata": {},
   "outputs": [],
   "source": []
  },
  {
   "cell_type": "markdown",
   "id": "5d3d7b0f",
   "metadata": {},
   "source": [
    "#### Model3: XGBoost Classifier"
   ]
  },
  {
   "cell_type": "code",
   "execution_count": null,
   "id": "ca13476c",
   "metadata": {},
   "outputs": [],
   "source": [
    "dtrain_reg = xgb.DMatrix(X_train, y_train, enable_categorical=True)\n",
    "dtest_reg = xgb.DMatrix(X_test, y_test, enable_categorical=True)"
   ]
  },
  {
   "cell_type": "code",
   "execution_count": null,
   "id": "3ebd0d83",
   "metadata": {},
   "outputs": [],
   "source": [
    "params = {\"objective\": \"reg:squarederror\", \"tree_method\": \"gpu_hist\"}"
   ]
  },
  {
   "cell_type": "code",
   "execution_count": null,
   "id": "846d3e6d",
   "metadata": {},
   "outputs": [],
   "source": [
    "n = 100\n",
    "model_xgb = xgb.train(\n",
    "   params=params,\n",
    "   dtrain=dtrain_reg,\n",
    "   num_boost_round=n,\n",
    ")"
   ]
  },
  {
   "cell_type": "code",
   "execution_count": null,
   "id": "b3c833c2",
   "metadata": {},
   "outputs": [],
   "source": [
    "y_preds_xgb = model_xgb.predict(dtest_reg)"
   ]
  },
  {
   "cell_type": "code",
   "execution_count": null,
   "id": "051614e7",
   "metadata": {},
   "outputs": [],
   "source": [
    "rmse(y_test, y_preds_xgb)"
   ]
  },
  {
   "cell_type": "code",
   "execution_count": null,
   "id": "9cf71efc",
   "metadata": {},
   "outputs": [],
   "source": []
  },
  {
   "cell_type": "markdown",
   "id": "6f9cd64e",
   "metadata": {},
   "source": [
    "#### Model4: ANN"
   ]
  },
  {
   "cell_type": "code",
   "execution_count": null,
   "id": "2c1e9b23",
   "metadata": {},
   "outputs": [],
   "source": [
    "ann = Sequential(\n",
    "    [\n",
    "    layers.Dense(4, activation='relu'),\n",
    "    layers.Dense(8, activation='relu'),\n",
    "    layers.Dense(2, activation='sigmoid'),\n",
    "    layers.Dense(1, activation='sigmoid')\n",
    "    ]\n",
    ")"
   ]
  },
  {
   "cell_type": "code",
   "execution_count": null,
   "id": "c6f845fa",
   "metadata": {},
   "outputs": [],
   "source": [
    "ann.compile(optimizer='Adagrad', loss='binary_crossentropy')"
   ]
  },
  {
   "cell_type": "code",
   "execution_count": null,
   "id": "7a420464",
   "metadata": {},
   "outputs": [],
   "source": [
    "ann.fit(X_train, y_train)\n",
    "\n",
    "y_preds_ann = ann.predict(X_test)"
   ]
  },
  {
   "cell_type": "code",
   "execution_count": null,
   "id": "951a37f9",
   "metadata": {},
   "outputs": [],
   "source": [
    "rmse(np.reshape(y_test, (-1,1)), y_preds_ann)"
   ]
  },
  {
   "cell_type": "code",
   "execution_count": null,
   "id": "f8dae656",
   "metadata": {},
   "outputs": [],
   "source": []
  }
 ],
 "metadata": {
  "kernelspec": {
   "display_name": "Python 3 (ipykernel)",
   "language": "python",
   "name": "python3"
  },
  "language_info": {
   "codemirror_mode": {
    "name": "ipython",
    "version": 3
   },
   "file_extension": ".py",
   "mimetype": "text/x-python",
   "name": "python",
   "nbconvert_exporter": "python",
   "pygments_lexer": "ipython3",
   "version": "3.11.4"
  }
 },
 "nbformat": 4,
 "nbformat_minor": 5
}
